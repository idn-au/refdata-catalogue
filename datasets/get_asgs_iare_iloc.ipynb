{
 "cells": [
  {
   "cell_type": "markdown",
   "metadata": {},
   "source": [
    "### Set up Environment"
   ]
  },
  {
   "cell_type": "code",
   "execution_count": 2,
   "metadata": {},
   "outputs": [],
   "source": [
    "import requests\n",
    "from rdflib import Graph\n",
    "import pandas as pd"
   ]
  },
  {
   "cell_type": "markdown",
   "metadata": {},
   "source": [
    "### Extract ASGS3 datasets"
   ]
  },
  {
   "cell_type": "code",
   "execution_count": null,
   "metadata": {},
   "outputs": [],
   "source": [
    "def extract_members_list(\n",
    "        url: str = \"https://asgs.linked.fsdf.org.au/sparql\",\n",
    "        uri: str = \"https://linked.data.gov.au/dataset/asgsed3\",\n",
    "        collection: str = \"IARE\"\n",
    "        ):\n",
    "    query = f\"\"\"DESCRIBE <{uri}/{collection}>\"\"\"\n",
    "    response = requests.post(url, data={\"query\": query})\n",
    "    graph = Graph()\n",
    "    graph.parse(data=response.text, format=\"turtle\")   \n",
    "    for item in sorted(list(graph.objects())):\n",
    "    \n",
    "        if str(item).startswith(f\"{uri}/{collection}/\"):\n",
    "            print(item)\n",
    "            url = url\n",
    "            query = f\"\"\"\n",
    "            DESCRIBE <{item}>\n",
    "            \"\"\"\n",
    "\n",
    "            response = requests.post(url, data={\"query\": query})\n",
    "\n",
    "            g1 = Graph()\n",
    "            g1.parse(data=response.text, format=\"turtle\")   \n",
    "\n",
    "            graph = graph + g1\n",
    "        else:\n",
    "            pass\n",
    "\n",
    "    graph.serialize(destination=f\"ASGS3_{collection}.ttl\", format=\"turtle\")"
   ]
  },
  {
   "cell_type": "code",
   "execution_count": null,
   "metadata": {},
   "outputs": [],
   "source": [
    "extract_members_list(\"https://asgs.linked.fsdf.org.au/sparql\", \"https://linked.data.gov.au/dataset/asgsed3\", \"IREG\")"
   ]
  }
 ],
 "metadata": {
  "kernelspec": {
   "display_name": ".venv",
   "language": "python",
   "name": "python3"
  },
  "language_info": {
   "codemirror_mode": {
    "name": "ipython",
    "version": 3
   },
   "file_extension": ".py",
   "mimetype": "text/x-python",
   "name": "python",
   "nbconvert_exporter": "python",
   "pygments_lexer": "ipython3",
   "version": "3.13.2"
  }
 },
 "nbformat": 4,
 "nbformat_minor": 2
}
